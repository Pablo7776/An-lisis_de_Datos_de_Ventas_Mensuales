{
  "cells": [
    {
      "cell_type": "markdown",
      "metadata": {
        "id": "view-in-github",
        "colab_type": "text"
      },
      "source": [
        "<a href=\"https://colab.research.google.com/github/Pablo7776/An-lisis_de_Datos_de_Ventas_Mensuales/blob/main/Clasificador_de_canciones_de_Spotify.ipynb\" target=\"_parent\"><img src=\"https://colab.research.google.com/assets/colab-badge.svg\" alt=\"Open In Colab\"/></a>"
      ]
    },
    {
      "cell_type": "markdown",
      "metadata": {
        "id": "PtX18N6z4J22"
      },
      "source": [
        "# Laboratorio\n",
        "## Clasificador de canciones de Spotify"
      ]
    },
    {
      "cell_type": "markdown",
      "source": [
        "#Alumnos:\n",
        "##Pablo Duran\n",
        "##Ezequiel Flores\n",
        "##Tomás Pereyra\n"
      ],
      "metadata": {
        "id": "zpXfkrbT6ajQ"
      }
    },
    {
      "cell_type": "code",
      "execution_count": 8,
      "metadata": {
        "id": "QfYfto5Z4J23"
      },
      "outputs": [],
      "source": [
        "import pandas as pd\n",
        "from sklearn.neighbors import KNeighborsClassifier\n",
        "from sklearn.model_selection import train_test_split\n",
        "from sklearn.neighbors import KNeighborsClassifier\n",
        "from matplotlib import pyplot as plt\n",
        "from sklearn.model_selection import train_test_split  # Para dividir el conjunto de datos en entrenamiento y prueba\n",
        "from sklearn.metrics import accuracy_score, confusion_matrix, classification_report  # Para evaluar el modelo\n",
        "from sklearn.model_selection import train_test_split, GridSearchCV\n",
        "from sklearn.svm import SVC\n",
        "from sklearn.metrics import accuracy_score, confusion_matrix, classification_report\n",
        "from sklearn.preprocessing import StandardScaler\n",
        "import seaborn as sns\n",
        "import numpy as np"
      ]
    },
    {
      "cell_type": "markdown",
      "metadata": {
        "id": "mhEufXEV4J24"
      },
      "source": [
        "importamos el archivo .csv"
      ]
    },
    {
      "cell_type": "code",
      "execution_count": 9,
      "metadata": {
        "id": "2fuZWHdp4J24"
      },
      "outputs": [],
      "source": [
        "# Si el archivo está en Google Drive\n",
        "#archivo_csv = 'Canciones_Spotify.csv'\n",
        "\n",
        "# Importa el archivo CSV en un DataFrame de Pandas\n",
        "#data = pd.read_csv(archivo_csv)"
      ]
    },
    {
      "cell_type": "code",
      "source": [
        "from google.colab import drive\n",
        "drive.mount('/content/drive')"
      ],
      "metadata": {
        "colab": {
          "base_uri": "https://localhost:8080/"
        },
        "id": "JzCoghv54fev",
        "outputId": "f3d4a4a9-1a32-44aa-83ce-f25ed0df51ab"
      },
      "execution_count": 10,
      "outputs": [
        {
          "output_type": "stream",
          "name": "stdout",
          "text": [
            "Drive already mounted at /content/drive; to attempt to forcibly remount, call drive.mount(\"/content/drive\", force_remount=True).\n"
          ]
        }
      ]
    },
    {
      "cell_type": "code",
      "source": [
        "# Ruta al archivo CSV en Google Drive (asegúrate de que la ruta sea correcta)\n",
        "archivo_csv = '/content/drive/MyDrive/Colab Notebooks/Canciones_Spotify.csv'\n",
        "\n",
        "# Importa el archivo CSV en un DataFrame de Pandas\n",
        "data = pd.read_csv(archivo_csv)"
      ],
      "metadata": {
        "id": "Tbk5Nu0v4v2G"
      },
      "execution_count": 11,
      "outputs": []
    },
    {
      "cell_type": "code",
      "execution_count": 12,
      "metadata": {
        "colab": {
          "base_uri": "https://localhost:8080/"
        },
        "id": "yruIUl6-4J25",
        "outputId": "37ba6ed9-3efa-47b9-9208-f10b68eac260"
      },
      "outputs": [
        {
          "output_type": "stream",
          "name": "stdout",
          "text": [
            "1    1020\n",
            "0     997\n",
            "Name: target, dtype: int64\n"
          ]
        }
      ],
      "source": [
        "# Cuenta cuántos 0s y cuántos 1s hay en la columna \"target\"\n",
        "conteo_target = data['target'].value_counts()\n",
        "\n",
        "# Imprime el resultado\n",
        "print(conteo_target)"
      ]
    },
    {
      "cell_type": "markdown",
      "metadata": {
        "id": "Az7ZLL7W4J25"
      },
      "source": [
        "********************************************************************************************************************************************************************************************************************************************************************************************\n",
        "Modelo de clasificación supervisada:\n",
        "\n",
        "KNN\n",
        "\n",
        "********************************************************************************************************************************************************************************************************************************************************************************************"
      ]
    },
    {
      "cell_type": "code",
      "execution_count": 13,
      "metadata": {
        "id": "P6vBkL7O4J25"
      },
      "outputs": [],
      "source": [
        "# Dividir los datos en características (X) y etiquetas (y)\n",
        "xK = data[['acousticness', 'danceability', 'duration_ms', 'energy', 'instrumentalness', 'liveness', 'loudness', 'mode', 'speechiness',  'valence']]\n",
        "yK = data['target']"
      ]
    },
    {
      "cell_type": "code",
      "execution_count": 14,
      "metadata": {
        "id": "NMmH2loF4J26"
      },
      "outputs": [],
      "source": [
        "\n",
        "# Dividir los datos en conjuntos de entrenamiento y prueba\n",
        "\n",
        "#con stratify=yK realizamos un muestreo estratificado al dividir tus datos en conjuntos de entrenamiento y prueba. El muestreo estratificado asegura que las proporciones de las clases se mantengan en ambos conjuntos.\n",
        "X_train, X_test, y_train, y_test = train_test_split(xK, yK, test_size=0.2,stratify=yK, random_state=42)\n",
        "\n",
        "# Normalizar las características (esto es importante para KNN)\n",
        "scaler = StandardScaler()\n",
        "X_train = scaler.fit_transform(X_train)\n",
        "X_test = scaler.transform(X_test)\n",
        "\n",
        "# Lista para almacenar las precisiones\n",
        "accuracies = []\n",
        "\n",
        "\n"
      ]
    },
    {
      "cell_type": "markdown",
      "metadata": {
        "id": "RWWowUXy4J26"
      },
      "source": [
        "experimentamos con distintos valores de hiperpárametros"
      ]
    },
    {
      "cell_type": "code",
      "execution_count": 15,
      "metadata": {
        "colab": {
          "base_uri": "https://localhost:8080/"
        },
        "id": "oZ3bd8-S4J26",
        "outputId": "2ed903b8-436f-4e1b-9a72-a6f83d678b06"
      },
      "outputs": [
        {
          "output_type": "stream",
          "name": "stdout",
          "text": [
            "Precisión del modelo KNN con 1 vecinos y weights='uniform': 64.85%\n",
            "Precisión del modelo KNN con 1 vecinos y weights='distance': 64.85%\n",
            "Precisión del modelo KNN con 2 vecinos y weights='uniform': 63.37%\n",
            "Precisión del modelo KNN con 2 vecinos y weights='distance': 64.85%\n",
            "Precisión del modelo KNN con 3 vecinos y weights='uniform': 70.54%\n",
            "Precisión del modelo KNN con 3 vecinos y weights='distance': 71.04%\n",
            "Precisión del modelo KNN con 4 vecinos y weights='uniform': 67.33%\n",
            "Precisión del modelo KNN con 4 vecinos y weights='distance': 70.54%\n",
            "Precisión del modelo KNN con 5 vecinos y weights='uniform': 71.29%\n",
            "Precisión del modelo KNN con 5 vecinos y weights='distance': 70.79%\n",
            "Precisión del modelo KNN con 6 vecinos y weights='uniform': 66.09%\n",
            "Precisión del modelo KNN con 6 vecinos y weights='distance': 70.30%\n",
            "Precisión del modelo KNN con 7 vecinos y weights='uniform': 71.78%\n",
            "Precisión del modelo KNN con 7 vecinos y weights='distance': 72.03%\n",
            "Precisión del modelo KNN con 8 vecinos y weights='uniform': 69.55%\n",
            "Precisión del modelo KNN con 8 vecinos y weights='distance': 72.52%\n",
            "Precisión del modelo KNN con 9 vecinos y weights='uniform': 72.28%\n",
            "Precisión del modelo KNN con 9 vecinos y weights='distance': 72.52%\n",
            "Precisión del modelo KNN con 10 vecinos y weights='uniform': 71.29%\n",
            "Precisión del modelo KNN con 10 vecinos y weights='distance': 73.76%\n",
            "Precisión del modelo KNN con 11 vecinos y weights='uniform': 73.27%\n",
            "Precisión del modelo KNN con 11 vecinos y weights='distance': 73.27%\n",
            "Precisión del modelo KNN con 12 vecinos y weights='uniform': 72.28%\n",
            "Precisión del modelo KNN con 12 vecinos y weights='distance': 74.01%\n",
            "Precisión del modelo KNN con 13 vecinos y weights='uniform': 72.52%\n",
            "Precisión del modelo KNN con 13 vecinos y weights='distance': 72.52%\n",
            "Precisión del modelo KNN con 14 vecinos y weights='uniform': 72.03%\n",
            "Precisión del modelo KNN con 14 vecinos y weights='distance': 73.51%\n",
            "Precisión del modelo KNN con 15 vecinos y weights='uniform': 73.51%\n",
            "Precisión del modelo KNN con 15 vecinos y weights='distance': 74.01%\n",
            "Precisión del modelo KNN con 16 vecinos y weights='uniform': 72.77%\n",
            "Precisión del modelo KNN con 16 vecinos y weights='distance': 73.02%\n",
            "Precisión del modelo KNN con 17 vecinos y weights='uniform': 72.77%\n",
            "Precisión del modelo KNN con 17 vecinos y weights='distance': 73.02%\n",
            "Precisión del modelo KNN con 18 vecinos y weights='uniform': 72.77%\n",
            "Precisión del modelo KNN con 18 vecinos y weights='distance': 73.02%\n",
            "Precisión del modelo KNN con 19 vecinos y weights='uniform': 73.02%\n",
            "Precisión del modelo KNN con 19 vecinos y weights='distance': 73.76%\n",
            "Precisión del modelo KNN con 20 vecinos y weights='uniform': 73.02%\n",
            "Precisión del modelo KNN con 20 vecinos y weights='distance': 74.50%\n",
            "Precisión del modelo KNN con 21 vecinos y weights='uniform': 73.76%\n",
            "Precisión del modelo KNN con 21 vecinos y weights='distance': 74.50%\n",
            "Precisión del modelo KNN con 22 vecinos y weights='uniform': 73.27%\n",
            "Precisión del modelo KNN con 22 vecinos y weights='distance': 74.26%\n",
            "Precisión del modelo KNN con 23 vecinos y weights='uniform': 73.51%\n",
            "Precisión del modelo KNN con 23 vecinos y weights='distance': 74.01%\n",
            "Precisión del modelo KNN con 24 vecinos y weights='uniform': 73.76%\n",
            "Precisión del modelo KNN con 24 vecinos y weights='distance': 74.50%\n",
            "Precisión del modelo KNN con 25 vecinos y weights='uniform': 74.01%\n",
            "Precisión del modelo KNN con 25 vecinos y weights='distance': 73.51%\n",
            "Precisión del modelo KNN con 26 vecinos y weights='uniform': 73.51%\n",
            "Precisión del modelo KNN con 26 vecinos y weights='distance': 73.76%\n",
            "Precisión del modelo KNN con 27 vecinos y weights='uniform': 73.27%\n",
            "Precisión del modelo KNN con 27 vecinos y weights='distance': 73.02%\n",
            "Precisión del modelo KNN con 28 vecinos y weights='uniform': 73.76%\n",
            "Precisión del modelo KNN con 28 vecinos y weights='distance': 73.76%\n",
            "Precisión del modelo KNN con 29 vecinos y weights='uniform': 74.01%\n",
            "Precisión del modelo KNN con 29 vecinos y weights='distance': 73.76%\n"
          ]
        }
      ],
      "source": [
        "# Rango de valores de \"n_neighbors\" que deseas probar\n",
        "n_neighbors_values = range(1, 30)  # Puedes ajustar el rango según tus necesidades\n",
        "\n",
        "\n",
        "# Valores de \"weights\" que deseas probar\n",
        "weights_values = ['uniform', 'distance']  # Puedes ajustar los valores según tus necesidades\n",
        "\n",
        "for n_neighbors in n_neighbors_values:\n",
        "    for weights in weights_values:\n",
        "        # Crear el modelo KNN con los valores actuales de \"n_neighbors\" y \"weights\"\n",
        "        knn = KNeighborsClassifier(n_neighbors=n_neighbors, weights=weights)\n",
        "\n",
        "        # Entrenar el modelo\n",
        "        knn.fit(X_train, y_train)\n",
        "\n",
        "        # Realizar predicciones en el conjunto de prueba\n",
        "        y_predK = knn.predict(X_test)\n",
        "\n",
        "        # Calcular la precisión del modelo y almacenarla en la lista\n",
        "        accuracy = accuracy_score(y_test, y_predK)\n",
        "        accuracies.append((n_neighbors, weights, accuracy))\n",
        "\n",
        "# Imprimir los resultados de la precisión para diferentes combinaciones de hiperparámetros\n",
        "for n_neighbors, weights, accuracy in accuracies:\n",
        "    print(\"Precisión del modelo KNN con {} vecinos y weights='{}': {:.2f}%\".format(n_neighbors, weights, accuracy * 100))"
      ]
    },
    {
      "cell_type": "markdown",
      "metadata": {
        "id": "qVjfDPyq4J26"
      },
      "source": [
        "nos quedamos solo con los mejores hipepárametros"
      ]
    },
    {
      "cell_type": "code",
      "execution_count": 16,
      "metadata": {
        "colab": {
          "base_uri": "https://localhost:8080/"
        },
        "id": "FRcxoTmM4J26",
        "outputId": "ff2335c0-03e0-473d-c70d-0316d76c7d5a"
      },
      "outputs": [
        {
          "output_type": "stream",
          "name": "stdout",
          "text": [
            "Mejor combinación de hiperparámetros:\n",
            "Número de vecinos (n_neighbors): 20\n",
            "Peso de los vecinos (weights): distance\n",
            "Precisión del modelo KNN con la mejor combinación de hiperparámetros: 74.50%\n",
            "Precisión del modelo KNN final: 74.50%\n"
          ]
        }
      ],
      "source": [
        "\n",
        "# Encontrar la combinación de hiperparámetros con la mayor precisión\n",
        "best_accuracy = -1  # Inicializa la mejor precisión con un valor negativo\n",
        "best_n_neighbors = None\n",
        "best_weights = None\n",
        "\n",
        "for n_neighbors, weights, accuracy in accuracies:\n",
        "    if accuracy > best_accuracy:\n",
        "        best_accuracy = accuracy\n",
        "        best_n_neighbors = n_neighbors\n",
        "        best_weights = weights\n",
        "\n",
        "# Imprimir la combinación de hiperparámetros con la mejor precisión\n",
        "print(\"Mejor combinación de hiperparámetros:\")\n",
        "print(\"Número de vecinos (n_neighbors):\", best_n_neighbors)\n",
        "print(\"Peso de los vecinos (weights):\", best_weights)\n",
        "print(\"Precisión del modelo KNN con la mejor combinación de hiperparámetros: {:.2f}%\".format(best_accuracy * 100))\n",
        "\n",
        "# Crear y ajustar el modelo KNN final con la mejor combinación de hiperparámetros\n",
        "final_knn = KNeighborsClassifier(n_neighbors=best_n_neighbors, weights=best_weights)\n",
        "final_knn.fit(X_train, y_train)\n",
        "\n",
        "# Realizar predicciones en el conjunto de prueba\n",
        "y_pred_final = final_knn.predict(X_test)\n",
        "\n",
        "# Calcular la precisión del modelo final\n",
        "final_accuracy = accuracy_score(y_test, y_pred_final)\n",
        "print(\"Precisión del modelo KNN final: {:.2f}%\".format(final_accuracy * 100))"
      ]
    },
    {
      "cell_type": "markdown",
      "metadata": {
        "id": "4D0nyWPm4J27"
      },
      "source": [
        "Evaluación y análisis del rendimiento:"
      ]
    },
    {
      "cell_type": "code",
      "execution_count": 17,
      "metadata": {
        "colab": {
          "base_uri": "https://localhost:8080/"
        },
        "id": "ncSl9lIZ4J27",
        "outputId": "c3aeea94-1b45-4812-d811-4cb2167ce207"
      },
      "outputs": [
        {
          "output_type": "stream",
          "name": "stdout",
          "text": [
            "Matriz de confusión\n",
            "[[165  35]\n",
            " [ 71 133]]\n"
          ]
        }
      ],
      "source": [
        "matriz_confusion = confusion_matrix(y_test, y_predK)\n",
        "\n",
        "print(\"Matriz de confusión\")\n",
        "print(matriz_confusion)\n"
      ]
    },
    {
      "cell_type": "code",
      "execution_count": 18,
      "metadata": {
        "colab": {
          "base_uri": "https://localhost:8080/"
        },
        "id": "gr93p_oY4J27",
        "outputId": "016dfa5a-31b0-4c0d-dbc7-b434249b50f9"
      },
      "outputs": [
        {
          "output_type": "stream",
          "name": "stdout",
          "text": [
            "Reporte de clasificación:\n",
            "               precision    recall  f1-score   support\n",
            "\n",
            "           0       0.70      0.82      0.76       200\n",
            "           1       0.79      0.65      0.72       204\n",
            "\n",
            "    accuracy                           0.74       404\n",
            "   macro avg       0.75      0.74      0.74       404\n",
            "weighted avg       0.75      0.74      0.74       404\n",
            "\n"
          ]
        }
      ],
      "source": [
        "print(\"Reporte de clasificación:\\n\", classification_report(y_test, y_predK))"
      ]
    },
    {
      "cell_type": "code",
      "execution_count": 19,
      "metadata": {
        "colab": {
          "base_uri": "https://localhost:8080/",
          "height": 472
        },
        "id": "r6kZKkwG4J27",
        "outputId": "fa4e75bd-4af4-487f-cac5-fe843ea7a2a4"
      },
      "outputs": [
        {
          "output_type": "display_data",
          "data": {
            "text/plain": [
              "<Figure size 640x480 with 2 Axes>"
            ],
            "image/png": "[encoded data removed]"
          },
          "metadata": {}
        }
      ],
      "source": [
        "sns.heatmap(matriz_confusion, annot=True, fmt='d', cmap='Blues', square=True, xticklabels=['Clase 0', 'Clase 1'], yticklabels=['Clase 0', 'Clase 1'])\n",
        "plt.xlabel('Predicción')\n",
        "plt.ylabel('Etiqueta Verdadera')\n",
        "plt.title('Matriz de Confusión')\n",
        "plt.show()"
      ]
    },
    {
      "cell_type": "code",
      "execution_count": 20,
      "metadata": {
        "colab": {
          "base_uri": "https://localhost:8080/",
          "height": 565
        },
        "id": "xE2b8Mvh4J27",
        "outputId": "4f24cbfd-a659-4c8b-8d93-8a2730b1a6b0"
      },
      "outputs": [
        {
          "output_type": "display_data",
          "data": {
            "text/plain": [
              "<Figure size 1000x600 with 1 Axes>"
            ],
            "image/png": "[encoded data removed]"
          },
          "metadata": {}
        }
      ],
      "source": [
        "import matplotlib.pyplot as plt\n",
        "import numpy as np\n",
        "from sklearn.metrics import accuracy_score\n",
        "from sklearn.preprocessing import StandardScaler\n",
        "from sklearn.neighbors import KNeighborsClassifier\n",
        "from sklearn.model_selection import train_test_split\n",
        "\n",
        "# Dividir los datos en conjuntos de entrenamiento y prueba\n",
        "X_train, X_test, y_train, y_test = train_test_split(xK, yK, test_size=0.2, random_state=42)\n",
        "\n",
        "# Normalizar las características (esto es importante para KNN)\n",
        "scaler = StandardScaler()\n",
        "X_train = scaler.fit_transform(X_train)\n",
        "X_test = scaler.transform(X_test)\n",
        "\n",
        "# Lista para almacenar las precisiones\n",
        "accuracies = []\n",
        "\n",
        "# Rango de valores de \"n_neighbors\" que deseas probar\n",
        "n_neighbors_values = range(1, 21)  # Puedes ajustar el rango según tus necesidades\n",
        "\n",
        "for n_neighbors in n_neighbors_values:\n",
        "    # Crear el modelo KNN con el valor actual de \"n_neighbors\"\n",
        "    knn = KNeighborsClassifier(n_neighbors=n_neighbors)\n",
        "\n",
        "    # Entrenar el modelo\n",
        "    knn.fit(X_train, y_train)\n",
        "\n",
        "    # Realizar predicciones en el conjunto de prueba\n",
        "    y_pred = knn.predict(X_test)\n",
        "\n",
        "    # Calcular la precisión del modelo y almacenarla en la lista\n",
        "    accuracy = accuracy_score(y_test, y_pred)\n",
        "    accuracies.append(accuracy)\n",
        "\n",
        "# Graficar la precisión en función de \"n_neighbors\"\n",
        "plt.figure(figsize=(10, 6))\n",
        "plt.plot(n_neighbors_values, accuracies, marker='o')\n",
        "plt.title('Precisión del modelo KNN en función de \"n_neighbors\"')\n",
        "plt.xlabel('Número de vecinos (n_neighbors)')\n",
        "plt.ylabel('Precisión')\n",
        "plt.grid(True)\n",
        "plt.show()"
      ]
    },
    {
      "cell_type": "markdown",
      "metadata": {
        "id": "bdTlapwd4J27"
      },
      "source": [
        "********************************************************************************************************************************************************************************************************************************************************************************************\n",
        "Modelo de clasificación supervisada:\n",
        "\n",
        "SVM\n",
        "\n",
        "********************************************************************************************************************************************************************************************************************************************************************************************"
      ]
    },
    {
      "cell_type": "code",
      "execution_count": 23,
      "metadata": {
        "colab": {
          "base_uri": "https://localhost:8080/"
        },
        "id": "4k67xJmJ4J28",
        "outputId": "8f8cac68-6256-41ea-fe91-8c728fb00792"
      },
      "outputs": [
        {
          "output_type": "stream",
          "name": "stdout",
          "text": [
            "Mejores grupos de características: ['acousticness', 'danceability', 'duration_ms', 'energy', 'instrumentalness', 'key', 'liveness', 'loudness', 'mode', 'speechiness', 'tempo', 'time_signature', 'valence']\n",
            "Mejores hiperparámetros: {'C': 3.1, 'gamma': 'auto', 'kernel': 'rbf'}\n",
            "Precisión: 0.7722772277227723\n",
            "Matriz de confusión:\n",
            " [[158  42]\n",
            " [ 50 154]]\n",
            "Reporte de clasificación:\n",
            "               precision    recall  f1-score   support\n",
            "\n",
            "           0       0.76      0.79      0.77       200\n",
            "           1       0.79      0.75      0.77       204\n",
            "\n",
            "    accuracy                           0.77       404\n",
            "   macro avg       0.77      0.77      0.77       404\n",
            "weighted avg       0.77      0.77      0.77       404\n",
            "\n"
          ]
        }
      ],
      "source": [
        "\n",
        "# Cargar el conjunto de datos desde un archivo CSV\n",
        "df = pd.read_csv('/content/drive/MyDrive/Colab Notebooks/Canciones_Spotify.csv')\n",
        "\n",
        "\n",
        "\n",
        "\n",
        "# Definir la lista de combinaciones de características que deseas probar\n",
        "combinations = [\n",
        "\n",
        "    #Dejamos comentadas algunas las listas para no consumir demasiado tiempo, Dejamos solo las que tuvieron mejor desempeño\n",
        "\n",
        "    ['acousticness', 'danceability', 'duration_ms', 'energy', 'instrumentalness', 'key', 'liveness', 'loudness', 'mode', 'speechiness', 'tempo', 'time_signature', 'valence'],\n",
        "    #[ 'danceability', 'instrumentalness', 'loudness'],\n",
        "    #[ 'danceability', 'duration_ms', 'energy', 'instrumentalness', 'liveness', 'loudness', 'mode', 'speechiness', 'valence']\n",
        "\n",
        "    # Agrega más combinaciones de características aquí\n",
        "]\n",
        "\n",
        "\n",
        "\n",
        "\n",
        "\n",
        "for feature_set in combinations:\n",
        "    # Seleccionar las características (columnas) y la etiqueta (target) para la combinación actual\n",
        "    X = df[feature_set]\n",
        "    y = df['target']\n",
        "\n",
        "    # Dividir el conjunto de datos en entrenamiento y prueba\n",
        "    X_train, X_test, y_train, y_test = train_test_split(X, y, test_size=0.2, random_state=42, stratify=y)\n",
        "\n",
        "    # Normalizar las características\n",
        "    scaler = StandardScaler()\n",
        "    X_train = scaler.fit_transform(X_train)\n",
        "    X_test = scaler.transform(X_test)\n",
        "\n",
        "    # Crear el modelo SVM\n",
        "    svm_model = SVC()\n",
        "\n",
        "    #IMPORTANTE: SOLO USAR SI SE DESEA APLICAR EL TIPO DE VOTACIÓN \"2\", TENER EN CUENTA DE QUE LLEVA MUCHO MÁS TIEMPO\n",
        "    #svm_model = SVC(probability=True)\n",
        "\n",
        "    # Definir la cuadrícula de hiperparámetros a buscar\n",
        "    param_grid = {\n",
        "        'C': [ 1, 2.9, 3 , 3.1,3.2,3.3,3.4,4, 5 ],  # Valores de regularización\n",
        "\n",
        "        # Dejamos comentada la lista con distintos tipos de kernels para no consumir demasiado tiempo\n",
        "        #'kernel': ['linear', 'rbf', 'poly', 'sigmoid'],  # Tipos de kernel\n",
        "        'kernel': [ 'rbf'],\n",
        "        'gamma': ['scale', 'auto'] + [0.001, 0.01, 0.1, 1, 5,  10, 100],  # Valores para el hiperparámetro gamma\n",
        "    }\n",
        "\n",
        "    # Realizar la búsqueda de hiperparámetros utilizando validación cruzada\n",
        "    grid_search = GridSearchCV(svm_model, param_grid, cv=10)\n",
        "    grid_search.fit(X_train, y_train)\n",
        "\n",
        "    # Obtener el modelo con los mejores hiperparámetros\n",
        "    best_svm_model = grid_search.best_estimator_\n",
        "\n",
        "    # Realizar predicciones en los datos de prueba\n",
        "    y_pred_SVM = best_svm_model.predict(X_test)\n",
        "\n",
        "    # Calcular la precisión del modelo\n",
        "    accuracy = accuracy_score(y_test, y_pred_SVM)\n",
        "\n",
        "    # Calcular la matriz de confusión\n",
        "    confusion = confusion_matrix(y_test, y_pred_SVM)\n",
        "\n",
        "    # Imprimir los resultados\n",
        "    print(\"Mejores grupos de características:\", feature_set)\n",
        "    print(\"Mejores hiperparámetros:\", grid_search.best_params_)\n",
        "    print(\"Precisión:\", accuracy)\n",
        "    print(\"Matriz de confusión:\\n\", confusion)\n",
        "    print(\"Reporte de clasificación:\\n\", classification_report(y_test, y_pred_SVM))"
      ]
    },
    {
      "cell_type": "code",
      "execution_count": 24,
      "metadata": {
        "colab": {
          "base_uri": "https://localhost:8080/"
        },
        "id": "BWcjuyeJ4J28",
        "outputId": "abe2ccc5-e8a6-469a-9f4c-049daff706f1"
      },
      "outputs": [
        {
          "output_type": "stream",
          "name": "stdout",
          "text": [
            "Matriz de confusión\n",
            "[[158  42]\n",
            " [ 50 154]]\n"
          ]
        }
      ],
      "source": [
        "matriz_confusion = confusion_matrix(y_test, y_pred_SVM)\n",
        "\n",
        "print(\"Matriz de confusión\")\n",
        "print(matriz_confusion)"
      ]
    },
    {
      "cell_type": "code",
      "execution_count": 25,
      "metadata": {
        "colab": {
          "base_uri": "https://localhost:8080/",
          "height": 472
        },
        "id": "sBaIxI1y4J28",
        "outputId": "e19e4db7-f066-47bb-95ab-baff269a95af"
      },
      "outputs": [
        {
          "output_type": "display_data",
          "data": {
            "text/plain": [
              "<Figure size 640x480 with 2 Axes>"
            ],
            "image/png": "[encoded data removed]"
          },
          "metadata": {}
        }
      ],
      "source": [
        "sns.heatmap(matriz_confusion, annot=True, fmt='d', cmap='Blues', square=True, xticklabels=['Clase 0', 'Clase 1'], yticklabels=['Clase 0', 'Clase 1'])\n",
        "plt.xlabel('Predicción')\n",
        "plt.ylabel('Etiqueta Verdadera')\n",
        "plt.title('Matriz de Confusión')\n",
        "plt.show()"
      ]
    },
    {
      "cell_type": "markdown",
      "metadata": {
        "id": "aoSiomLq4J28"
      },
      "source": [
        "********************************************************************************************************************************************************************************************************************************************************************************************\n",
        "Modelo de clasificación supervisada:\n",
        "\n",
        "ARBOL DE DECISIÓN\n",
        "\n",
        "********************************************************************************************************************************************************************************************************************************************************************************************"
      ]
    },
    {
      "cell_type": "code",
      "execution_count": 26,
      "metadata": {
        "id": "YKAaJya04J28"
      },
      "outputs": [],
      "source": [
        "from sklearn.preprocessing import StandardScaler\n",
        "# Estandarizar los datos\n",
        "sc = StandardScaler()\n",
        "sc.fit(X_train)\n",
        "\n",
        "X_train_std = sc.transform(X_train)\n",
        "X_test_std = sc.transform(X_test)"
      ]
    },
    {
      "cell_type": "code",
      "execution_count": 27,
      "metadata": {
        "colab": {
          "base_uri": "https://localhost:8080/"
        },
        "id": "zWx_ZbEX4J29",
        "outputId": "5086fd51-9ce8-4302-eb5e-f32fb12bc1ba"
      },
      "outputs": [
        {
          "output_type": "stream",
          "name": "stdout",
          "text": [
            "Mejor precisión del modelo de Árbol de Decisión: 68.81%\n",
            "{'criterion': 'entropy', 'max_depth': 6}\n",
            "DecisionTreeClassifier(criterion='entropy', max_depth=6, random_state=1)\n"
          ]
        }
      ],
      "source": [
        "from sklearn.tree import DecisionTreeClassifier\n",
        "from sklearn.model_selection import GridSearchCV\n",
        "\n",
        "# Definir los hiperparámetros que deseas explorar\n",
        "param_grid = {\n",
        "    'criterion': ['gini', 'entropy'],\n",
        "    'max_depth': [4, 5, 6, 7]  # Ajustar los valores según tus necesidades\n",
        "}\n",
        "\n",
        "# Crear el modelo de Árbol de Decisión\n",
        "arbol = DecisionTreeClassifier(random_state=1)\n",
        "\n",
        "# Crear un objeto GridSearchCV para buscar la mejor combinación de hiperparámetros\n",
        "grid_search = GridSearchCV(estimator=arbol, param_grid=param_grid, scoring='accuracy', cv=5)\n",
        "\n",
        "# Ajustar el modelo de búsqueda de hiperparámetros en los datos de entrenamiento\n",
        "grid_search.fit(X_train_std, y_train)\n",
        "\n",
        "# Obtener la mejor combinación de hiperparámetros y el mejor modelo\n",
        "best_params = grid_search.best_params_\n",
        "best_model = grid_search.best_estimator_\n",
        "\n",
        "# Realizar predicciones con el mejor modelo\n",
        "decision_tree_predictions = best_model.predict(X_test)\n",
        "\n",
        "# Calcular la precisión del mejor modelo\n",
        "accuracy = accuracy_score(y_test, decision_tree_predictions)\n",
        "print(\"Mejor precisión del modelo de Árbol de Decisión: {:.2f}%\".format(accuracy * 100))\n",
        "print(best_params)\n",
        "print(best_model)\n"
      ]
    },
    {
      "cell_type": "markdown",
      "metadata": {
        "id": "JuPG6a4w4J29"
      },
      "source": [
        "Evaluación y análisis del rendimiento:"
      ]
    },
    {
      "cell_type": "code",
      "execution_count": 28,
      "metadata": {
        "colab": {
          "base_uri": "https://localhost:8080/"
        },
        "id": "-sbDyDME4J29",
        "outputId": "3e363758-f404-43d0-ed24-bd8e790ec09b"
      },
      "outputs": [
        {
          "output_type": "stream",
          "name": "stdout",
          "text": [
            "Precisión: 0.6881188118811881\n"
          ]
        }
      ],
      "source": [
        "accuracy = accuracy_score(y_test, decision_tree_predictions)\n",
        "print(\"Precisión:\", accuracy)"
      ]
    },
    {
      "cell_type": "code",
      "execution_count": 29,
      "metadata": {
        "colab": {
          "base_uri": "https://localhost:8080/"
        },
        "id": "tAHldyRI4J29",
        "outputId": "c94ee199-7fd9-4c44-8804-e9923041dfb5"
      },
      "outputs": [
        {
          "output_type": "stream",
          "name": "stdout",
          "text": [
            "Matriz de confusión\n",
            "[[149  51]\n",
            " [ 75 129]]\n"
          ]
        }
      ],
      "source": [
        "matriz_confusion = confusion_matrix(y_test, decision_tree_predictions)\n",
        "\n",
        "print(\"Matriz de confusión\")\n",
        "print(matriz_confusion)"
      ]
    },
    {
      "cell_type": "code",
      "execution_count": 30,
      "metadata": {
        "colab": {
          "base_uri": "https://localhost:8080/"
        },
        "id": "8pGXKs-X4J29",
        "outputId": "421675d7-b030-4b24-aa89-a10bb2d3d8b0"
      },
      "outputs": [
        {
          "output_type": "stream",
          "name": "stdout",
          "text": [
            "Reporte de clasificación:\n",
            "               precision    recall  f1-score   support\n",
            "\n",
            "           0       0.67      0.74      0.70       200\n",
            "           1       0.72      0.63      0.67       204\n",
            "\n",
            "    accuracy                           0.69       404\n",
            "   macro avg       0.69      0.69      0.69       404\n",
            "weighted avg       0.69      0.69      0.69       404\n",
            "\n"
          ]
        }
      ],
      "source": [
        "print(\"Reporte de clasificación:\\n\", classification_report(y_test, decision_tree_predictions))"
      ]
    },
    {
      "cell_type": "code",
      "execution_count": 31,
      "metadata": {
        "colab": {
          "base_uri": "https://localhost:8080/",
          "height": 472
        },
        "id": "qO_55HHj4J29",
        "outputId": "503c17bc-f925-4cea-dc70-f30c99936e7d"
      },
      "outputs": [
        {
          "output_type": "display_data",
          "data": {
            "text/plain": [
              "<Figure size 640x480 with 2 Axes>"
            ],
            "image/png": "[encoded data removed]"
          },
          "metadata": {}
        }
      ],
      "source": [
        "sns.heatmap(matriz_confusion, annot=True, fmt='d', cmap='Blues', square=True, xticklabels=['Clase 0', 'Clase 1'], yticklabels=['Clase 0', 'Clase 1'])\n",
        "plt.xlabel('Predicción')\n",
        "plt.ylabel('Etiqueta Verdadera')\n",
        "plt.title('Matriz de Confusión')\n",
        "plt.show()"
      ]
    },
    {
      "cell_type": "markdown",
      "metadata": {
        "id": "0Vnw0VEo4J29"
      },
      "source": [
        "********************************************************************************************************************************************************************************************************************************************************************************************\n",
        "Modelo de clasificación supervisada:\n",
        "\n",
        "BAYES\n",
        "\n",
        "********************************************************************************************************************************************************************************************************************************************************************************************"
      ]
    },
    {
      "cell_type": "markdown",
      "metadata": {
        "id": "MbhhhfSU4J2-"
      },
      "source": [
        "Se deja comentado el siguiente código debido a sus pobres resultados"
      ]
    },
    {
      "cell_type": "code",
      "execution_count": 32,
      "metadata": {
        "id": "hfz64aZs4J2-"
      },
      "outputs": [],
      "source": [
        "# # Dividir los datos en características (X) y etiquetas (y)\n",
        "# xB = data[['acousticness', 'danceability', 'duration_ms', 'energy', 'instrumentalness', 'liveness', 'loudness', 'mode', 'speechiness',  'valence']]\n",
        "# yB = data['target']"
      ]
    },
    {
      "cell_type": "code",
      "execution_count": 33,
      "metadata": {
        "id": "UT-ncy0X4J2-"
      },
      "outputs": [],
      "source": [
        "# from sklearn.model_selection import train_test_split, GridSearchCV\n",
        "# from sklearn.naive_bayes import GaussianNB\n",
        "\n",
        "# # Dividir los datos en conjuntos de entrenamiento y prueba\n",
        "# X_train, X_test, y_train, y_test = train_test_split(xB, yB, test_size=0.2, random_state=42)\n",
        "\n",
        "# # Inicializar el clasificador Naive Bayes (GaussianNB)\n",
        "# naive_bayes_classifier = GaussianNB()\n",
        "\n",
        "# # Definir los hiperparámetros que deseas ajustar\n",
        "# param_grid = {\n",
        "#     'var_smoothing': [1e-9, 1e-8, 1e-7, 1e-6, 1e-5]  # Ejemplo de valores para var_smoothing\n",
        "# }\n",
        "\n",
        "# # Inicializar la búsqueda de cuadrícula\n",
        "# grid_search = GridSearchCV(estimator=naive_bayes_classifier, param_grid=param_grid, cv=5, scoring='accuracy')\n",
        "\n",
        "# # Realizar la búsqueda de cuadrícula en los datos de entrenamiento\n",
        "# grid_search.fit(X_train, y_train)\n",
        "\n",
        "# # Obtener los mejores hiperparámetros\n",
        "# best_params = grid_search.best_params_\n",
        "# print(\"Mejores hiperparámetros:\", best_params)\n",
        "\n",
        "# # Evaluar el modelo con los mejores hiperparámetros en el conjunto de prueba\n",
        "# best_naive_bayes_classifier = grid_search.best_estimator_\n",
        "# y_predB = best_naive_bayes_classifier.predict(X_test)\n",
        "\n",
        "# # Calcular la precisión del modelo con los mejores hiperparámetros\n",
        "# accuracy = accuracy_score(y_test, y_pred)\n",
        "# print(\"Precisión del modelo con los mejores hiperparámetros:\", accuracy)"
      ]
    },
    {
      "cell_type": "markdown",
      "metadata": {
        "id": "Tk_TBugc4J2-"
      },
      "source": [
        "********************************************************************************************************************************************************************************************************************************************************************************************\n",
        "VOTACIÓN TIPO 1\n",
        "\n",
        "Implementamos un tipo de votación simple llamado \"votación mayoritaria\" o \"votación por mayoría\" en el contexto de la clasificación.\n",
        "\n",
        "********************************************************************************************************************************************************************************************************************************************************************************************"
      ]
    },
    {
      "cell_type": "code",
      "execution_count": 34,
      "metadata": {
        "id": "eVsVyTh44J2-"
      },
      "outputs": [],
      "source": [
        "import seaborn as sns"
      ]
    },
    {
      "cell_type": "code",
      "execution_count": 35,
      "metadata": {
        "id": "zIluKBJO4J2-"
      },
      "outputs": [],
      "source": [
        "final_predictions = []\n",
        "for k, s , t in zip(y_predK, y_pred_SVM, decision_tree_predictions):\n",
        "\n",
        "\n",
        "    votes = {0: 0, 1: 0}\n",
        "    votes[k] += 1\n",
        "    votes[s] += 1\n",
        "    votes[t] += 1\n",
        "\n",
        "    #votes[s] vota doble por ser el mejor modelo\n",
        "\n",
        "\n",
        "\n",
        "    majority_vote = max(votes, key=votes.get)\n",
        "    final_predictions.append(majority_vote)\n",
        "\n"
      ]
    },
    {
      "cell_type": "code",
      "execution_count": 36,
      "metadata": {
        "colab": {
          "base_uri": "https://localhost:8080/"
        },
        "id": "3tWGgT0T4J2-",
        "outputId": "7d34fb73-682d-4b20-d64a-7215ac32cc4a"
      },
      "outputs": [
        {
          "output_type": "stream",
          "name": "stdout",
          "text": [
            "Precisión los modelos: 77.97%\n"
          ]
        }
      ],
      "source": [
        "accuracyFINAL = accuracy_score(y_test, final_predictions)\n",
        "print(\"Precisión los modelos: {:.2f}%\".format(accuracyFINAL * 100))"
      ]
    },
    {
      "cell_type": "code",
      "execution_count": 37,
      "metadata": {
        "colab": {
          "base_uri": "https://localhost:8080/"
        },
        "id": "CbqyEqXF4J2-",
        "outputId": "f234fca6-acf7-4e33-d7ab-4c318931843b"
      },
      "outputs": [
        {
          "output_type": "stream",
          "name": "stdout",
          "text": [
            "Matriz de confusión\n",
            "[[166  34]\n",
            " [ 55 149]]\n"
          ]
        }
      ],
      "source": [
        "matriz_confusion = confusion_matrix(y_test, final_predictions)\n",
        "\n",
        "print(\"Matriz de confusión\")\n",
        "print(matriz_confusion)"
      ]
    },
    {
      "cell_type": "code",
      "execution_count": 38,
      "metadata": {
        "colab": {
          "base_uri": "https://localhost:8080/"
        },
        "id": "TruPDl5K4J2_",
        "outputId": "288b4e50-4bd3-4220-f907-5240c1fe929f"
      },
      "outputs": [
        {
          "output_type": "stream",
          "name": "stdout",
          "text": [
            "Reporte de clasificación:\n",
            "               precision    recall  f1-score   support\n",
            "\n",
            "           0       0.75      0.83      0.79       200\n",
            "           1       0.81      0.73      0.77       204\n",
            "\n",
            "    accuracy                           0.78       404\n",
            "   macro avg       0.78      0.78      0.78       404\n",
            "weighted avg       0.78      0.78      0.78       404\n",
            "\n"
          ]
        }
      ],
      "source": [
        "print(\"Reporte de clasificación:\\n\", classification_report(y_test, final_predictions))"
      ]
    },
    {
      "cell_type": "code",
      "execution_count": 39,
      "metadata": {
        "colab": {
          "base_uri": "https://localhost:8080/",
          "height": 472
        },
        "id": "MR_AYS484J3F",
        "outputId": "a1096e51-2f9c-4312-f6fd-ad5287bf4338"
      },
      "outputs": [
        {
          "output_type": "display_data",
          "data": {
            "text/plain": [
              "<Figure size 640x480 with 2 Axes>"
            ],
            "image/png": "[encoded data removed]"
          },
          "metadata": {}
        }
      ],
      "source": [
        "sns.heatmap(matriz_confusion, annot=True, fmt='d', cmap='Blues', square=True, xticklabels=['Clase 0', 'Clase 1'], yticklabels=['Clase 0', 'Clase 1'])\n",
        "plt.xlabel('Predicción')\n",
        "plt.ylabel('Etiqueta Verdadera')\n",
        "plt.title('Matriz de Confusión')\n",
        "plt.show()\n"
      ]
    },
    {
      "cell_type": "markdown",
      "metadata": {
        "id": "Po2EgkAB4J3F"
      },
      "source": [
        "********************************************************************************************************************************************************************************************************************************************************************************************\n",
        "VOTACIÓN TIPO 2\n",
        "\n",
        " En este caso, se utiliza el enfoque de \"votación suave\", lo que significa que se ponderan las predicciones de cada modelo en función de su confianza\n",
        "\n",
        " IMPORTANTE: para utilizarla descomentar la linea \"svm_model = SVC(probability=True)\" y tener en cuenta que lleva más tiempo\n",
        "\n",
        " Optamos por dejar comentada esta parte del código ya que sus resultados no son tan óptimos como la \"votación tipo 1\"\n",
        "\n",
        " ******************************************************************************************************************************************************************************************************************************************************************************************"
      ]
    },
    {
      "cell_type": "code",
      "execution_count": null,
      "metadata": {
        "id": "dhqKwDjl4J3F"
      },
      "outputs": [],
      "source": [
        "from sklearn.ensemble import VotingClassifier\n",
        "from sklearn.model_selection import train_test_split\n",
        "from sklearn.metrics import accuracy_score"
      ]
    },
    {
      "cell_type": "code",
      "execution_count": null,
      "metadata": {
        "id": "KUBc3WzV4J3G"
      },
      "outputs": [],
      "source": [
        "\n",
        "# # Crea el clasificador de votación\n",
        "# voting_classifier = VotingClassifier(estimators=[\n",
        "#     ('model1', knn),\n",
        "#     ('model2', best_svm_model),\n",
        "#     ('model3', arbol)\n",
        "# ], voting='soft')\n",
        "\n",
        "# # Definir los conjuntos de datos de entrenamiento y validación\n",
        "# X_train, X_val, y_train, y_val = train_test_split(X, y, test_size=0.2, random_state=42)\n",
        "\n",
        "# # Resto del código\n",
        "\n",
        "# # Entrena el clasificador de votación\n",
        "# voting_classifier.fit(X_train, y_train)\n",
        "\n",
        "# # Realiza predicciones en el conjunto de validación\n",
        "# y_pred = voting_classifier.predict(X_val)\n",
        "# final_accuracy = accuracy_score(y_val, y_pred)\n",
        "# num_estimators = len(voting_classifier.estimators_)\n",
        "# print(f\"Número de modelos que votaron: {num_estimators}\")\n",
        "\n",
        "# print(\"Precisión del modelo de votación ponderada:\", final_accuracy)"
      ]
    }
  ],
  "metadata": {
    "kernelspec": {
      "display_name": "Python 3",
      "language": "python",
      "name": "python3"
    },
    "language_info": {
      "codemirror_mode": {
        "name": "ipython",
        "version": 3
      },
      "file_extension": ".py",
      "mimetype": "text/x-python",
      "name": "python",
      "nbconvert_exporter": "python",
      "pygments_lexer": "ipython3",
      "version": "3.11.4"
    },
    "colab": {
      "provenance": [],
      "include_colab_link": true
    }
  },
  "nbformat": 4,
  "nbformat_minor": 0
}